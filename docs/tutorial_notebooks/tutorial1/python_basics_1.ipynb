{
  "cells": [
    {
      "cell_type": "markdown",
      "id": "3213a9fe",
      "metadata": {
        "id": "3213a9fe"
      },
      "source": [
        "# 1. 🐍 Introduction to Python: Basics\n",
        "\n",
        "![Status](https://img.shields.io/static/v1.svg?label=Status&message=Finished&color=green)\n",
        "\n",
        "**Filled notebook:**\n",
        "[![View filled on Github](https://img.shields.io/static/v1.svg?logo=github&label=Repo&message=View%20On%20Github&color=lightgrey)](https://github.com/bfortuno/Surgical-Phase-Recognition/blob/main/docs/tutorial_notebooks/tutorial1/python_basics_1.ipynb)\n",
        "[![Open filled In Collab](https://colab.research.google.com/assets/colab-badge.svg)](https://colab.research.google.com/github/bfortuno/Surgical-Phase-Recognition/blob/main/docs/tutorial_notebooks/tutorial1/python_basics_1.ipynb)    \n",
        "**Author:** Benjamin I. Fortuno\n",
        "\n",
        "**📌 Learning Objectives:**\n",
        "- Understand Python fundamentals\n",
        "- Work with lists and dictionaries\n",
        "- Read and process CSV files\n",
        "- Compute basic statistics"
      ]
    },
    {
      "cell_type": "code",
      "execution_count": null,
      "id": "45f5ecc8",
      "metadata": {
        "id": "45f5ecc8",
        "outputId": "0b072e04-ee94-4bd2-e8b7-d1f1261717b1"
      },
      "outputs": [
        {
          "name": "stdout",
          "output_type": "stream",
          "text": [
            "Not running on CoLab\n"
          ]
        }
      ],
      "source": [
        "# Setup the environment for the tutorial notebook to run on CoLab\n",
        "# This script will clone the repository and change the working directory to the tutorial notebook directory\n",
        "if 'google.colab' in str(get_ipython()):\n",
        "  print('Running on CoLab')\n",
        "  !git clone https://github.com/bfortuno/Surgical-Phase-Recognition.git         # Clone the repository\n",
        "  %cd /content/Surgical-Phase-Recognition/docs/tutorial_notebooks/tutorial1     # Change the working directory to the tutorial notebook directory\n",
        "else:\n",
        "  print('Not running on CoLab')"
      ]
    },
    {
      "cell_type": "markdown",
      "id": "2d885f5e",
      "metadata": {
        "id": "2d885f5e"
      },
      "source": [
        "## **1 Python Basics**\n",
        "### **1.1 Variables & Data Types**\n",
        "\n",
        "In Python, variables store values. Let's look at some common data types:"
      ]
    },
    {
      "cell_type": "code",
      "execution_count": null,
      "id": "df8880d6",
      "metadata": {
        "id": "df8880d6",
        "outputId": "c2cf4bb8-afdd-4383-e65a-28658a1bcf62"
      },
      "outputs": [
        {
          "name": "stdout",
          "output_type": "stream",
          "text": [
            "10 3.14 Hello, AI! True\n"
          ]
        }
      ],
      "source": [
        "# Integer\n",
        "a = 10\n",
        "\n",
        "# Float\n",
        "b = 3.14\n",
        "\n",
        "# String\n",
        "c = 'Hello, AI!'\n",
        "\n",
        "# Boolean\n",
        "d = True\n",
        "\n",
        "# Print values\n",
        "print(a, b, c, d)"
      ]
    },
    {
      "cell_type": "markdown",
      "id": "9e0d95e8",
      "metadata": {
        "id": "9e0d95e8"
      },
      "source": [
        "👉 **Task**: Try defining your own variables and print them."
      ]
    },
    {
      "cell_type": "markdown",
      "id": "70481563",
      "metadata": {
        "id": "70481563"
      },
      "source": [
        "### **1.2 Conditionals and Loops**\n",
        "\n",
        "**If-else statements** allow decision-making:"
      ]
    },
    {
      "cell_type": "code",
      "execution_count": null,
      "id": "2226bbcb",
      "metadata": {
        "id": "2226bbcb",
        "outputId": "1877daa7-7bf2-45e9-80c2-d84540f75acd"
      },
      "outputs": [
        {
          "name": "stdout",
          "output_type": "stream",
          "text": [
            "Positive number\n"
          ]
        }
      ],
      "source": [
        "x = 5\n",
        "if x > 0:\n",
        "    print('Positive number')\n",
        "else:\n",
        "    print('Negative number')"
      ]
    },
    {
      "cell_type": "markdown",
      "id": "c43eb7b1",
      "metadata": {
        "id": "c43eb7b1"
      },
      "source": [
        "Loops allow us to execute a block of code multiple times. Python has two main types of loops:  \n",
        "1. **`for` loop** – Used when the number of iterations is known.\n",
        "2. **`while` loop** – Used when the number of iterations depends on a condition.\n",
        "\n",
        "---\n",
        "\n",
        "### 🌀 For Loop\n",
        "\n",
        "```python\n",
        "# For loop\n",
        "for i in range(5):\n",
        "    print(i)\n",
        "```\n",
        "#### 🔍 Explanation:\n",
        "- `range(5)` generates numbers from **0 to 4** (not including 5).\n",
        "- The loop runs **5 times**, each time printing the current value of `i`.\n",
        "- The loop automatically increments `i` in each iteration.\n",
        "\n",
        "#### ⚠️ Things to Be Careful About:\n",
        "- **Indexing Issues**: `range(n)` starts from **0** and goes up to **n-1**, not `n`.\n",
        "- **Skipping Values**: To loop from **1 to 5**, use `range(1, 6)`.\n",
        "  ```python\n",
        "  for i in range(1, 6):  # Generates 1, 2, 3, 4, 5\n",
        "      print(i)\n",
        "  ```\n",
        "- **Step Size**: Use a third argument for step size.\n",
        "  ```python\n",
        "  for i in range(0, 10, 2):  # Prints even numbers 0, 2, 4, 6, 8\n",
        "      print(i)\n",
        "  ```\n",
        "\n",
        "---\n",
        "\n",
        "### 🔄 While Loop\n",
        "```python\n",
        "# While loop\n",
        "count = 0\n",
        "while count < 3:\n",
        "    print('Count:', count)\n",
        "    count += 1\n",
        "```\n",
        "#### 🔍 Explanation:\n",
        "- The loop **executes as long as** `count < 3`.\n",
        "- The variable `count` starts at **0** and increases by **1** in each iteration.\n",
        "- When `count == 3`, the loop condition (`count < 3`) becomes **False**, and the loop stops.\n",
        "\n",
        "#### ⚠️ Things to Be Careful About:\n",
        "- **Infinite Loops**: If `count` is not incremented inside the loop, it will run forever.\n",
        "  ```python\n",
        "  while True:  # ⚠️ Infinite loop\n",
        "      print(\"This will run forever!\")\n",
        "  ```\n",
        "- **Proper Condition**: Ensure the loop will eventually stop. A faulty condition may cause the program to hang.\n",
        "- **Changing Condition Inside the Loop**: If the value of `count` is not updated properly, the loop may behave unexpectedly."
      ]
    },
    {
      "cell_type": "code",
      "execution_count": null,
      "id": "6f49372f",
      "metadata": {
        "id": "6f49372f",
        "outputId": "43de8252-dbd0-449e-ed4d-7da314740fd1"
      },
      "outputs": [
        {
          "name": "stdout",
          "output_type": "stream",
          "text": [
            "0\n",
            "1\n",
            "2\n",
            "3\n",
            "4\n",
            "Count: 0\n",
            "Count: 1\n",
            "Count: 2\n"
          ]
        }
      ],
      "source": [
        "# For loop\n",
        "for i in range(5):\n",
        "    print(i)\n",
        "\n",
        "# While loop\n",
        "count = 0\n",
        "while count < 3:\n",
        "    print('Count:', count)\n",
        "    count += 1"
      ]
    },
    {
      "cell_type": "markdown",
      "id": "76cfd4d6",
      "metadata": {
        "id": "76cfd4d6"
      },
      "source": [
        "👉 **Task**: Modify the loops to print numbers from 1 to 10."
      ]
    },
    {
      "cell_type": "markdown",
      "id": "8860a99a",
      "metadata": {
        "id": "8860a99a"
      },
      "source": [
        "## **2 Functions in Python**\n",
        "\n",
        "Functions help organize code into reusable blocks:"
      ]
    },
    {
      "cell_type": "code",
      "execution_count": null,
      "id": "429a0748",
      "metadata": {
        "id": "429a0748",
        "outputId": "632cdda3-4bf6-4113-cf18-57f514048109"
      },
      "outputs": [
        {
          "name": "stdout",
          "output_type": "stream",
          "text": [
            "8\n"
          ]
        }
      ],
      "source": [
        "def add_numbers(x, y):\n",
        "    return x + y\n",
        "\n",
        "print(add_numbers(3, 5))"
      ]
    },
    {
      "cell_type": "markdown",
      "id": "b18cd385",
      "metadata": {
        "id": "b18cd385"
      },
      "source": [
        "👉 **Task**: Write a function that multiplies two numbers."
      ]
    },
    {
      "cell_type": "markdown",
      "id": "7b931b8a",
      "metadata": {
        "id": "7b931b8a"
      },
      "source": [
        "## **3 Lists and Dictionaries**\n",
        "\n",
        "### **3.1 Lists (Arrays in Python)**"
      ]
    },
    {
      "cell_type": "code",
      "execution_count": null,
      "id": "7def08b5",
      "metadata": {
        "id": "7def08b5",
        "outputId": "f0ee8e0b-377d-4001-a4dc-0ab8331bea03"
      },
      "outputs": [
        {
          "name": "stdout",
          "output_type": "stream",
          "text": [
            "1\n",
            "1\n",
            "2\n",
            "3\n",
            "4\n",
            "5\n"
          ]
        }
      ],
      "source": [
        "numbers = [1, 2, 3, 4, 5]\n",
        "\n",
        "# Access elements\n",
        "print(numbers[0])\n",
        "\n",
        "# Loop through list\n",
        "for num in numbers:\n",
        "    print(num)"
      ]
    },
    {
      "cell_type": "markdown",
      "id": "4c32749a",
      "metadata": {
        "id": "4c32749a"
      },
      "source": [
        "### **3.2 Dictionaries (Key-Value Pairs)**"
      ]
    },
    {
      "cell_type": "code",
      "execution_count": null,
      "id": "be9573f4",
      "metadata": {
        "id": "be9573f4",
        "outputId": "dbb68197-bc4e-4ada-9233-0ae3361979c5"
      },
      "outputs": [
        {
          "name": "stdout",
          "output_type": "stream",
          "text": [
            "Alice\n"
          ]
        }
      ],
      "source": [
        "student = {'name': 'Alice', 'age': 22, 'grade': 'A'}\n",
        "\n",
        "print(student['name'])  # Output: Alice"
      ]
    },
    {
      "cell_type": "markdown",
      "id": "68086a57",
      "metadata": {
        "id": "68086a57"
      },
      "source": [
        "👉 **Task**: Create a dictionary storing information about yourself and print it."
      ]
    },
    {
      "cell_type": "markdown",
      "id": "e73c2fb3",
      "metadata": {
        "id": "e73c2fb3"
      },
      "source": [
        "## **4 File Handling & CSV Processing**\n",
        "\n",
        "Let's read a CSV file using Python!"
      ]
    },
    {
      "cell_type": "code",
      "execution_count": null,
      "id": "7999fee6",
      "metadata": {
        "id": "7999fee6",
        "outputId": "7228bce2-0095-4e37-b750-9c9c7559b9f4"
      },
      "outputs": [
        {
          "name": "stdout",
          "output_type": "stream",
          "text": [
            "['Time', 'Temperature (C)']\n",
            "['08:00', '22.5']\n",
            "['09:00', '24.1']\n",
            "['10:00', '25.3']\n",
            "['11:00', '26.7']\n",
            "['12:00', '27.8']\n"
          ]
        }
      ],
      "source": [
        "import csv\n",
        "\n",
        "# Read a CSV file\n",
        "with open('data1.csv', 'r') as file:\n",
        "    reader = csv.reader(file)\n",
        "    for row in reader:\n",
        "        print(row)"
      ]
    },
    {
      "cell_type": "markdown",
      "id": "1c847f9b",
      "metadata": {
        "id": "1c847f9b"
      },
      "source": [
        "Now, let's compute basic statistics:"
      ]
    },
    {
      "cell_type": "code",
      "execution_count": null,
      "id": "096da635",
      "metadata": {
        "id": "096da635",
        "outputId": "8bce3719-4816-4275-f7c2-550871d5ab30"
      },
      "outputs": [
        {
          "name": "stdout",
          "output_type": "stream",
          "text": [
            "         Math  Science  English\n",
            "Student                        \n",
            "Alice      85       89       75\n",
            "Bob        90       85       80\n",
            "Charlie    78       80       85\n",
            "David      92       95       90\n",
            "Eve        88       90       78\n"
          ]
        }
      ],
      "source": [
        "import pandas as pd\n",
        "\n",
        "# Load CSV into a DataFrame, considering first row as header and first column as index\n",
        "df = pd.read_csv('data2.csv', header=0, index_col=0)\n",
        "\n",
        "# Display DataFrame head\n",
        "print(df.head())"
      ]
    },
    {
      "cell_type": "code",
      "execution_count": null,
      "id": "e93a2c1c",
      "metadata": {
        "id": "e93a2c1c",
        "outputId": "1d59cc51-9dea-4dc2-b027-b587533cf84f"
      },
      "outputs": [
        {
          "name": "stdout",
          "output_type": "stream",
          "text": [
            "Mean: Math       86.6\n",
            "Science    87.8\n",
            "English    81.6\n",
            "dtype: float64\n",
            "Max: Math       92\n",
            "Science    95\n",
            "English    90\n",
            "dtype: int64\n",
            "Min: Math       78\n",
            "Science    80\n",
            "English    75\n",
            "dtype: int64\n"
          ]
        }
      ],
      "source": [
        "# Compute statistics\n",
        "print('Mean:', df.mean())\n",
        "print('Max:', df.max())\n",
        "print('Min:', df.min())"
      ]
    },
    {
      "cell_type": "markdown",
      "id": "e35949a4",
      "metadata": {
        "id": "e35949a4"
      },
      "source": [
        "👉 **Task**: Load a CSV file and compute its mean, max, and min values."
      ]
    },
    {
      "cell_type": "code",
      "execution_count": null,
      "id": "b5968fc4",
      "metadata": {
        "id": "b5968fc4"
      },
      "outputs": [],
      "source": []
    },
    {
      "cell_type": "markdown",
      "id": "b448b029",
      "metadata": {
        "id": "b448b029"
      },
      "source": [
        "## **Final Task**\n",
        "1. Read a CSV file called `Surgical-deepnet.csv`\n",
        "2. Compute the mean, max, and min of each column.\n",
        "3. Print the results.\n",
        "\n",
        "💡 **Hint**: Use Pandas (`pd.read_csv()`) for easy CSV handling."
      ]
    },
    {
      "cell_type": "code",
      "source": [
        "import pandas as pd\n",
        "\n",
        "Table = pd.read_csv('Surgical-deepnet.csv', header=0, index_col=0)\n",
        "\n",
        "print(Table.head())"
      ],
      "metadata": {
        "id": "wq6SGjbs4XW-",
        "outputId": "188a83b4-7780-4cca-e3c2-74440a74cde7",
        "colab": {
          "base_uri": "https://localhost:8080/",
          "height": 373
        }
      },
      "id": "wq6SGjbs4XW-",
      "execution_count": 1,
      "outputs": [
        {
          "output_type": "error",
          "ename": "FileNotFoundError",
          "evalue": "[Errno 2] No such file or directory: 'Surgical-deepnet.csv'",
          "traceback": [
            "\u001b[0;31m---------------------------------------------------------------------------\u001b[0m",
            "\u001b[0;31mFileNotFoundError\u001b[0m                         Traceback (most recent call last)",
            "\u001b[0;32m<ipython-input-1-2db7e80e95be>\u001b[0m in \u001b[0;36m<cell line: 0>\u001b[0;34m()\u001b[0m\n\u001b[1;32m      1\u001b[0m \u001b[0;32mimport\u001b[0m \u001b[0mpandas\u001b[0m \u001b[0;32mas\u001b[0m \u001b[0mpd\u001b[0m\u001b[0;34m\u001b[0m\u001b[0;34m\u001b[0m\u001b[0m\n\u001b[1;32m      2\u001b[0m \u001b[0;34m\u001b[0m\u001b[0m\n\u001b[0;32m----> 3\u001b[0;31m \u001b[0mTable\u001b[0m \u001b[0;34m=\u001b[0m \u001b[0mpd\u001b[0m\u001b[0;34m.\u001b[0m\u001b[0mread_csv\u001b[0m\u001b[0;34m(\u001b[0m\u001b[0;34m'Surgical-deepnet.csv'\u001b[0m\u001b[0;34m,\u001b[0m \u001b[0mheader\u001b[0m\u001b[0;34m=\u001b[0m\u001b[0;36m0\u001b[0m\u001b[0;34m,\u001b[0m \u001b[0mindex_col\u001b[0m\u001b[0;34m=\u001b[0m\u001b[0;36m0\u001b[0m\u001b[0;34m)\u001b[0m\u001b[0;34m\u001b[0m\u001b[0;34m\u001b[0m\u001b[0m\n\u001b[0m\u001b[1;32m      4\u001b[0m \u001b[0;34m\u001b[0m\u001b[0m\n\u001b[1;32m      5\u001b[0m \u001b[0mprint\u001b[0m\u001b[0;34m(\u001b[0m\u001b[0mTable\u001b[0m\u001b[0;34m.\u001b[0m\u001b[0mhead\u001b[0m\u001b[0;34m(\u001b[0m\u001b[0;34m)\u001b[0m\u001b[0;34m)\u001b[0m\u001b[0;34m\u001b[0m\u001b[0;34m\u001b[0m\u001b[0m\n",
            "\u001b[0;32m/usr/local/lib/python3.11/dist-packages/pandas/io/parsers/readers.py\u001b[0m in \u001b[0;36mread_csv\u001b[0;34m(filepath_or_buffer, sep, delimiter, header, names, index_col, usecols, dtype, engine, converters, true_values, false_values, skipinitialspace, skiprows, skipfooter, nrows, na_values, keep_default_na, na_filter, verbose, skip_blank_lines, parse_dates, infer_datetime_format, keep_date_col, date_parser, date_format, dayfirst, cache_dates, iterator, chunksize, compression, thousands, decimal, lineterminator, quotechar, quoting, doublequote, escapechar, comment, encoding, encoding_errors, dialect, on_bad_lines, delim_whitespace, low_memory, memory_map, float_precision, storage_options, dtype_backend)\u001b[0m\n\u001b[1;32m   1024\u001b[0m     \u001b[0mkwds\u001b[0m\u001b[0;34m.\u001b[0m\u001b[0mupdate\u001b[0m\u001b[0;34m(\u001b[0m\u001b[0mkwds_defaults\u001b[0m\u001b[0;34m)\u001b[0m\u001b[0;34m\u001b[0m\u001b[0;34m\u001b[0m\u001b[0m\n\u001b[1;32m   1025\u001b[0m \u001b[0;34m\u001b[0m\u001b[0m\n\u001b[0;32m-> 1026\u001b[0;31m     \u001b[0;32mreturn\u001b[0m \u001b[0m_read\u001b[0m\u001b[0;34m(\u001b[0m\u001b[0mfilepath_or_buffer\u001b[0m\u001b[0;34m,\u001b[0m \u001b[0mkwds\u001b[0m\u001b[0;34m)\u001b[0m\u001b[0;34m\u001b[0m\u001b[0;34m\u001b[0m\u001b[0m\n\u001b[0m\u001b[1;32m   1027\u001b[0m \u001b[0;34m\u001b[0m\u001b[0m\n\u001b[1;32m   1028\u001b[0m \u001b[0;34m\u001b[0m\u001b[0m\n",
            "\u001b[0;32m/usr/local/lib/python3.11/dist-packages/pandas/io/parsers/readers.py\u001b[0m in \u001b[0;36m_read\u001b[0;34m(filepath_or_buffer, kwds)\u001b[0m\n\u001b[1;32m    618\u001b[0m \u001b[0;34m\u001b[0m\u001b[0m\n\u001b[1;32m    619\u001b[0m     \u001b[0;31m# Create the parser.\u001b[0m\u001b[0;34m\u001b[0m\u001b[0;34m\u001b[0m\u001b[0m\n\u001b[0;32m--> 620\u001b[0;31m     \u001b[0mparser\u001b[0m \u001b[0;34m=\u001b[0m \u001b[0mTextFileReader\u001b[0m\u001b[0;34m(\u001b[0m\u001b[0mfilepath_or_buffer\u001b[0m\u001b[0;34m,\u001b[0m \u001b[0;34m**\u001b[0m\u001b[0mkwds\u001b[0m\u001b[0;34m)\u001b[0m\u001b[0;34m\u001b[0m\u001b[0;34m\u001b[0m\u001b[0m\n\u001b[0m\u001b[1;32m    621\u001b[0m \u001b[0;34m\u001b[0m\u001b[0m\n\u001b[1;32m    622\u001b[0m     \u001b[0;32mif\u001b[0m \u001b[0mchunksize\u001b[0m \u001b[0;32mor\u001b[0m \u001b[0miterator\u001b[0m\u001b[0;34m:\u001b[0m\u001b[0;34m\u001b[0m\u001b[0;34m\u001b[0m\u001b[0m\n",
            "\u001b[0;32m/usr/local/lib/python3.11/dist-packages/pandas/io/parsers/readers.py\u001b[0m in \u001b[0;36m__init__\u001b[0;34m(self, f, engine, **kwds)\u001b[0m\n\u001b[1;32m   1618\u001b[0m \u001b[0;34m\u001b[0m\u001b[0m\n\u001b[1;32m   1619\u001b[0m         \u001b[0mself\u001b[0m\u001b[0;34m.\u001b[0m\u001b[0mhandles\u001b[0m\u001b[0;34m:\u001b[0m \u001b[0mIOHandles\u001b[0m \u001b[0;34m|\u001b[0m \u001b[0;32mNone\u001b[0m \u001b[0;34m=\u001b[0m \u001b[0;32mNone\u001b[0m\u001b[0;34m\u001b[0m\u001b[0;34m\u001b[0m\u001b[0m\n\u001b[0;32m-> 1620\u001b[0;31m         \u001b[0mself\u001b[0m\u001b[0;34m.\u001b[0m\u001b[0m_engine\u001b[0m \u001b[0;34m=\u001b[0m \u001b[0mself\u001b[0m\u001b[0;34m.\u001b[0m\u001b[0m_make_engine\u001b[0m\u001b[0;34m(\u001b[0m\u001b[0mf\u001b[0m\u001b[0;34m,\u001b[0m \u001b[0mself\u001b[0m\u001b[0;34m.\u001b[0m\u001b[0mengine\u001b[0m\u001b[0;34m)\u001b[0m\u001b[0;34m\u001b[0m\u001b[0;34m\u001b[0m\u001b[0m\n\u001b[0m\u001b[1;32m   1621\u001b[0m \u001b[0;34m\u001b[0m\u001b[0m\n\u001b[1;32m   1622\u001b[0m     \u001b[0;32mdef\u001b[0m \u001b[0mclose\u001b[0m\u001b[0;34m(\u001b[0m\u001b[0mself\u001b[0m\u001b[0;34m)\u001b[0m \u001b[0;34m->\u001b[0m \u001b[0;32mNone\u001b[0m\u001b[0;34m:\u001b[0m\u001b[0;34m\u001b[0m\u001b[0;34m\u001b[0m\u001b[0m\n",
            "\u001b[0;32m/usr/local/lib/python3.11/dist-packages/pandas/io/parsers/readers.py\u001b[0m in \u001b[0;36m_make_engine\u001b[0;34m(self, f, engine)\u001b[0m\n\u001b[1;32m   1878\u001b[0m                 \u001b[0;32mif\u001b[0m \u001b[0;34m\"b\"\u001b[0m \u001b[0;32mnot\u001b[0m \u001b[0;32min\u001b[0m \u001b[0mmode\u001b[0m\u001b[0;34m:\u001b[0m\u001b[0;34m\u001b[0m\u001b[0;34m\u001b[0m\u001b[0m\n\u001b[1;32m   1879\u001b[0m                     \u001b[0mmode\u001b[0m \u001b[0;34m+=\u001b[0m \u001b[0;34m\"b\"\u001b[0m\u001b[0;34m\u001b[0m\u001b[0;34m\u001b[0m\u001b[0m\n\u001b[0;32m-> 1880\u001b[0;31m             self.handles = get_handle(\n\u001b[0m\u001b[1;32m   1881\u001b[0m                 \u001b[0mf\u001b[0m\u001b[0;34m,\u001b[0m\u001b[0;34m\u001b[0m\u001b[0;34m\u001b[0m\u001b[0m\n\u001b[1;32m   1882\u001b[0m                 \u001b[0mmode\u001b[0m\u001b[0;34m,\u001b[0m\u001b[0;34m\u001b[0m\u001b[0;34m\u001b[0m\u001b[0m\n",
            "\u001b[0;32m/usr/local/lib/python3.11/dist-packages/pandas/io/common.py\u001b[0m in \u001b[0;36mget_handle\u001b[0;34m(path_or_buf, mode, encoding, compression, memory_map, is_text, errors, storage_options)\u001b[0m\n\u001b[1;32m    871\u001b[0m         \u001b[0;32mif\u001b[0m \u001b[0mioargs\u001b[0m\u001b[0;34m.\u001b[0m\u001b[0mencoding\u001b[0m \u001b[0;32mand\u001b[0m \u001b[0;34m\"b\"\u001b[0m \u001b[0;32mnot\u001b[0m \u001b[0;32min\u001b[0m \u001b[0mioargs\u001b[0m\u001b[0;34m.\u001b[0m\u001b[0mmode\u001b[0m\u001b[0;34m:\u001b[0m\u001b[0;34m\u001b[0m\u001b[0;34m\u001b[0m\u001b[0m\n\u001b[1;32m    872\u001b[0m             \u001b[0;31m# Encoding\u001b[0m\u001b[0;34m\u001b[0m\u001b[0;34m\u001b[0m\u001b[0m\n\u001b[0;32m--> 873\u001b[0;31m             handle = open(\n\u001b[0m\u001b[1;32m    874\u001b[0m                 \u001b[0mhandle\u001b[0m\u001b[0;34m,\u001b[0m\u001b[0;34m\u001b[0m\u001b[0;34m\u001b[0m\u001b[0m\n\u001b[1;32m    875\u001b[0m                 \u001b[0mioargs\u001b[0m\u001b[0;34m.\u001b[0m\u001b[0mmode\u001b[0m\u001b[0;34m,\u001b[0m\u001b[0;34m\u001b[0m\u001b[0;34m\u001b[0m\u001b[0m\n",
            "\u001b[0;31mFileNotFoundError\u001b[0m: [Errno 2] No such file or directory: 'Surgical-deepnet.csv'"
          ]
        }
      ]
    },
    {
      "cell_type": "markdown",
      "id": "b99dcbf0",
      "metadata": {
        "id": "b99dcbf0"
      },
      "source": []
    }
  ],
  "metadata": {
    "kernelspec": {
      "display_name": "trien_project",
      "language": "python",
      "name": "python3"
    },
    "language_info": {
      "codemirror_mode": {
        "name": "ipython",
        "version": 3
      },
      "file_extension": ".py",
      "mimetype": "text/x-python",
      "name": "python",
      "nbconvert_exporter": "python",
      "pygments_lexer": "ipython3",
      "version": "3.10.6"
    },
    "colab": {
      "provenance": []
    }
  },
  "nbformat": 4,
  "nbformat_minor": 5
}